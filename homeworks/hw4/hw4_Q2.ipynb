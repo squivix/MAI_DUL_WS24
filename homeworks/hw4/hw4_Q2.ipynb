{
  "cells": [
    {
      "cell_type": "markdown",
      "id": "87ce1c2d",
      "metadata": {
        "id": "87ce1c2d"
      },
      "source": [
        "# Getting Started\n",
        "\n",
        "## General Tips\n",
        "In each homework problem, you will implement and train various diffusion models.\n",
        "\n",
        "Feel free to print whatever output (e.g. debugging code, training code, etc) you want, as the graded submission will be the submitted pdf with images.\n",
        "\n",
        "After you complete the assignment, download all of the images outputted in the results/ folder and upload them to the figure folder in the given latex template.\n",
        "\n",
        "Run the cells below to download and load up the starter code."
      ]
    },
    {
      "cell_type": "code",
      "execution_count": null,
      "id": "d7d20590",
      "metadata": {
        "id": "d7d20590"
      },
      "outputs": [],
      "source": [
        "# get to the parent dir of mai_dul repo\n",
        "import os\n",
        "os.chdir('../../')\n",
        "os.getcwd()"
      ]
    },
    {
      "cell_type": "code",
      "execution_count": null,
      "id": "393ef0e7",
      "metadata": {},
      "outputs": [],
      "source": [
        "# install latest version deepul package\n",
        "!pip install -e ."
      ]
    },
    {
      "cell_type": "code",
      "execution_count": null,
      "id": "3f55a3dd",
      "metadata": {
        "id": "3f55a3dd"
      },
      "outputs": [],
      "source": [
        "from deepul.hw4_helper import *\n",
        "import warnings\n",
        "warnings.filterwarnings('ignore')"
      ]
    },
    {
      "cell_type": "markdown",
      "id": "fc8fcc41",
      "metadata": {
        "id": "fc8fcc41"
      },
      "source": [
        "# Question 2: Pixel-Space Diffusion on CIFAR-10 [30pt]\n",
        "\n",
        "In this question, we will train pixel-space UNet diffusion model on CIFAR-10\n",
        "\n",
        "Execute the cell below to visualize our datasets."
      ]
    },
    {
      "cell_type": "code",
      "execution_count": null,
      "id": "44f9d642",
      "metadata": {
        "id": "44f9d642"
      },
      "outputs": [],
      "source": [
        "visualize_q2_data()"
      ]
    },
    {
      "cell_type": "markdown",
      "id": "370c91ef",
      "metadata": {
        "id": "370c91ef"
      },
      "source": [
        "We'll use a UNet architecture similar to the original [DDPM](https://arxiv.org/abs/2006.11239) paper. We provide the following pseudocode for each part of the model:\n",
        "```\n",
        "def timestep_embedding(timesteps, dim, max_period=10000):\n",
        "    half = dim // 2\n",
        "    freqs = np.exp(-np.log(max_period) * np.arange(0, half, dtype=float32) / half)\n",
        "    args = timesteps[:, None].astype(float32) * freqs[None]\n",
        "    embedding = cat([np.cos(args), np.sin(args)], axis=-1)\n",
        "    if dim % 2:\n",
        "        embedding = cat([embedding, np.zeros_like(embedding[:, :1])], axis=-1)\n",
        "    return embedding\n",
        "\n",
        "ResidualBlock(in_channels, out_channels, temb_channels)\n",
        "    Given x, temb\n",
        "    h = Conv2d(in_channels, out_channels, 3, padding=1)(x)\n",
        "    h = GroupNorm(num_groups=8, num_channels=out_channels)(h)\n",
        "    h = SiLU()(h)\n",
        "    \n",
        "    temb = Linear(temb_channels, out_channels)(temb)\n",
        "    h += temb[:, :, None, None] # h is BxDxHxW, temb is BxDx1x1\n",
        "    \n",
        "    h = Conv2d(out_channels, out_channels, 3, padding=1)(h)\n",
        "    h = GroupNorm(num_groups=8, num_channels=out_channels)(h)\n",
        "    h = SiLU()(h)\n",
        "    \n",
        "    if in_channels != out_channels:\n",
        "        x = Conv2d(in_channels, out_channels, 1)(x)\n",
        "    return x + h\n",
        "    \n",
        "Downsample(in_channels)\n",
        "    Given x\n",
        "    return Conv2d(in_channels, in_channels, 3, stride=2, padding=1)(x)\n",
        "\n",
        "Upsample(in_channels)\n",
        "    Given x\n",
        "    x = interpolate(x, scale_factor=2)\n",
        "    x = Conv2d(in_channels, in_channels, 3, padding=1)(x)\n",
        "    return x\n",
        "    \n",
        "UNet(in_channels, hidden_dims, blocks_per_dim)\n",
        "    Given x, t\n",
        "    temb_channels = hidden_dims[0] * 4\n",
        "    emb = timestep_embedding(t, hidden_dims[0])\n",
        "    emb = Sequential(Linear(hidden_dims[0], temb_channels), SiLU(), Linear(temb_channels, temb_channels))(emb)\n",
        "    \n",
        "    h = Conv2d(in_channels, hidden_dims[0], 3, padding=1)(x)\n",
        "    hs = [h]\n",
        "    prev_ch = hidden_dims[0]\n",
        "    down_block_chans = [prev_ch]\n",
        "    for i, hidden_dim in enumerate(hidden_dims):\n",
        "        for _ in range(blocks_per_dim):\n",
        "            h = ResidualBlock(prev_ch, hidden_dim, temb_channels)(h, emb)\n",
        "            hs.append(h)\n",
        "            prev_ch = hidden_dim\n",
        "            down_block_chans.append(prev_ch)\n",
        "        if i != len(hidden_dims) - 1:\n",
        "            h = Downsample(prev_ch)(h)\n",
        "            hs.append(h)\n",
        "            down_block_chans.append(prev_ch)\n",
        "    \n",
        "    h = ResidualBlock(prev_ch, prev_ch, temb_channels)(h, emb)\n",
        "    h = ResidualBlock(prev_ch, prev_ch, temb_channels)(h, emb)\n",
        "    \n",
        "    for i, hidden_dim in list(enumerate(hidden_dims))[::-1]:\n",
        "        for j in range(blocks_per_dim + 1):\n",
        "            dch = down_block_chans.pop()\n",
        "            h = ResidualBlock(prev_ch + dch, hidden_dim, temb_channels)(cat(h, hs.pop()), emb)\n",
        "            prev_ch = hidden_dim\n",
        "            if i and j == blocks_per_dim:\n",
        "                h = Upsample(prev_ch)(h)\n",
        "    \n",
        "    h = GroupNorm(num_groups=8, num_channels=prev_ch)(h)\n",
        "    h = SiLU()(h)\n",
        "    out = Conv2d(prev_ch, in_channels, 3, padding=1)(h)\n",
        "    return out\n",
        "```"
      ]
    },
    {
      "cell_type": "markdown",
      "id": "7ff725c4",
      "metadata": {
        "id": "7ff725c4"
      },
      "source": [
        "**Hyperparameter details**\n",
        "* Normalize data to [-1, 1]\n",
        "* UNET with hidden_dims as [64, 128, 256, 512] and 2 blocks_per_dim\n",
        "* Train 60 epochs, batch size 256, Adam with LR 1e-3 (100 warmup steps, cosine decay to 0)\n",
        "* For diffusion schedule, sampling and loss, use the same setup as Q1\n",
        "\n",
        "You may also find it helpful to clip $\\hat{x} = \\frac{x_t - \\sigma_t \\hat{\\epsilon}}{\\alpha_t}$ to [-1, 1] during each sampling step."
      ]
    },
    {
      "cell_type": "code",
      "execution_count": null,
      "id": "20bf77f2",
      "metadata": {
        "id": "20bf77f2"
      },
      "outputs": [],
      "source": [
        "def q2(train_data, test_data):\n",
        "    \"\"\"\n",
        "    train_data: A (50000, 32, 32, 3) numpy array of images in [0, 1]\n",
        "    test_data: A (10000, 32, 32, 3) numpy array of images in [0, 1]\n",
        "\n",
        "    Returns\n",
        "    - a (# of training iterations,) numpy array of train losses evaluated every minibatch\n",
        "    - a (# of num_epochs + 1,) numpy array of test losses evaluated at the start of training and the end of every epoch\n",
        "    - a numpy array of size (10, 10, 32, 32, 3) of samples in [0, 1] drawn from your model.\n",
        "      The array represents a 10 x 10 grid of generated samples. Each row represents 10 samples generated\n",
        "      for a specific number of diffusion timesteps. Do this for 10 evenly logarithmically spaced integers\n",
        "      1 to 512, i.e. np.power(2, np.linspace(0, 9, 10)).astype(int)\n",
        "    \"\"\"\n",
        "\n",
        "    \"\"\" YOUR CODE HERE \"\"\"\n",
        "\n",
        "    return train_losses, test_losses, samples"
      ]
    },
    {
      "cell_type": "code",
      "execution_count": null,
      "id": "76ea5a82",
      "metadata": {
        "id": "76ea5a82"
      },
      "outputs": [],
      "source": [
        "q2_save_results(q2)"
      ]
    }
  ],
  "metadata": {
    "colab": {
      "include_colab_link": true,
      "provenance": []
    },
    "kernelspec": {
      "display_name": "Python 3 (ipykernel)",
      "language": "python",
      "name": "python3"
    },
    "language_info": {
      "codemirror_mode": {
        "name": "ipython",
        "version": 3
      },
      "file_extension": ".py",
      "mimetype": "text/x-python",
      "name": "python",
      "nbconvert_exporter": "python",
      "pygments_lexer": "ipython3",
      "version": "3.9.18"
    }
  },
  "nbformat": 4,
  "nbformat_minor": 5
}
