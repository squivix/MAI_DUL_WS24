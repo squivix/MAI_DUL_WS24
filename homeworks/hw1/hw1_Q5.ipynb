{
 "cells": [
  {
   "cell_type": "markdown",
   "metadata": {
    "id": "Rdy1FtrRpGcC"
   },
   "source": [
    "# Getting Started\n",
    "\n",
    "Follow the general instructions from hw1_Q1"
   ]
  },
  {
   "cell_type": "code",
   "metadata": {
    "ExecuteTime": {
     "end_time": "2024-11-06T03:46:46.804435Z",
     "start_time": "2024-11-06T03:46:46.801128Z"
    }
   },
   "source": [
    "# get to the parent dir of mai_dul repo\n",
    "import os\n",
    "\n",
    "# os.chdir('../../')\n",
    "os.getcwd()"
   ],
   "outputs": [
    {
     "data": {
      "text/plain": [
       "'/home/ordem/PycharmProjects/MAI_DUL_WS24/homeworks/hw1'"
      ]
     },
     "execution_count": 2,
     "metadata": {},
     "output_type": "execute_result"
    }
   ],
   "execution_count": 2
  },
  {
   "cell_type": "code",
   "execution_count": null,
   "metadata": {},
   "outputs": [],
   "source": [
    "# run only once at the beginning of working on hw1\n",
    "# !unzip -qq homeworks/hw1/data/hw1_data.zip -d homeworks/hw1/data/\n",
    "\n",
    "# install latest version deepul package\n",
    "# !pip install -e ."
   ]
  },
  {
   "cell_type": "code",
   "metadata": {
    "id": "ZHWosWrbpO5Y",
    "ExecuteTime": {
     "end_time": "2024-11-06T03:46:53.384655Z",
     "start_time": "2024-11-06T03:46:51.677027Z"
    }
   },
   "source": [
    "import numpy as np\n",
    "from deepul.hw1_helper import (\n",
    "    # Q5\n",
    "    visualize_q5_data,\n",
    "    q5a_save_results,\n",
    ")"
   ],
   "outputs": [],
   "execution_count": 3
  },
  {
   "cell_type": "markdown",
   "metadata": {
    "id": "LMZLcaHwLNNL"
   },
   "source": [
    "# Question 5: Causal Transformer: Text"
   ]
  },
  {
   "cell_type": "markdown",
   "metadata": {},
   "source": [
    "Now lets consider text! You are probably already fimilar with autoregressive transformers for text, now more commonly known as Large Language Modesl (LLMs).\n",
    "We will now implement a simplified version.\n",
    "\n",
    "We will be detailing with a [small poetry dataset](https://huggingface.co/datasets/merve/poetry). See some of the data below."
   ]
  },
  {
   "cell_type": "code",
   "metadata": {
    "ExecuteTime": {
     "end_time": "2024-11-06T03:46:54.011207Z",
     "start_time": "2024-11-06T03:46:54.002378Z"
    }
   },
   "source": [
    "data = visualize_q5_data()"
   ],
   "outputs": [
    {
     "name": "stdout",
     "output_type": "stream",
     "text": [
      "Sample 1\n",
      "Michael Anania, Tracings from Selected Poems. Copyright  1994 by Michael Anania. Used by permission of Asphodel Press/Acorn Alliance.\n",
      "--------------------------------------------------------------------------------\n",
      "\n",
      "Sample 2\n",
      "When to the sessions of sweet silent thought\r\n",
      "I summon up remembrance of things past,\r\n",
      "I sigh the lack of many a thing I sought,\r\n",
      "And with old woes new wail my dear time's waste:\r\n",
      "Then can I drown an eye, unus'd to flow,\r\n",
      "For precious friends hid in death's dateless night,\r\n",
      "And weep afresh love's long since cancell'd woe,\r\n",
      "And moan th' expense of many a vanish'd sight;\r\n",
      "Then can I grieve at grievances foregone,\r\n",
      "And heavily from woe to woe tell o'er\r\n",
      "The sad account of fore-bemoaned moan,\r\n",
      "Which I new pay as if not paid before.\r\n",
      "But if the while I think on thee, dear friend,\r\n",
      "All losses are restor'd, and sorrows end.\n",
      "--------------------------------------------------------------------------------\n",
      "\n",
      "Sample 3\n",
      "Adieu, farewell, earths bliss;\r\n",
      "This world uncertain is;\r\n",
      "Fond are lifes lustful joys;\r\n",
      "Death proves them all but toys;\r\n",
      "None from his darts can fly;\r\n",
      "I am sick, I must die.\r\n",
      "   Lord, have mercy on us!\r\n",
      "\r\n",
      "Rich men, trust not in wealth,\r\n",
      "Gold cannot buy you health;\r\n",
      "Physic himself must fade.\r\n",
      "All things to end are made,\r\n",
      "The plague full swift goes by;\r\n",
      "I am sick, I must die.\r\n",
      "   Lord, have mercy on us!\r\n",
      "\r\n",
      "Beauty is but a flower\r\n",
      "Which wrinkles will devour;\r\n",
      "Brightness falls from the air;\r\n",
      "Queens have died young and fair;\r\n",
      "Dust hath closed Helens eye.\r\n",
      "I am sick, I must die.\r\n",
      "   Lord, have mercy on us!\r\n",
      "\r\n",
      "Strength stoops unto the grave,\r\n",
      "Worms feed on Hectors brave;\r\n",
      "Swords may not fight with fate,\r\n",
      "Earth still holds ope her gate.\r\n",
      "Come, come! the bells do cry.\r\n",
      "I am sick, I must die.\r\n",
      "   Lord, have mercy on us.\r\n",
      "\r\n",
      "Wit with his wantonness\r\n",
      "Tasteth deaths bitterness;\r\n",
      "Hells executioner\r\n",
      "Hath no ears for to hear\r\n",
      "What vain art can reply.\r\n",
      "I am sick, I must die.\r\n",
      "   Lord, have mercy on us.\r\n",
      "\r\n",
      "Haste, therefore, each degree,\r\n",
      "To welcome destiny;\r\n",
      "Heaven is our heritage,\r\n",
      "Earth but a players stage;\r\n",
      "Mount we unto the sky.\r\n",
      "I am sick, I must die.\r\n",
      "   Lord, have mercy on us.\n",
      "--------------------------------------------------------------------------------\n",
      "\n",
      "Sample 4\n",
      "The trade-wind jingles the rings in the nets around the racks by the docks on Indian River.\r\n",
      "It is the same jingle of the water among roots under the banks of the palmettoes,\r\n",
      "It is the same jingle of the red-bird breasting the orange-treesout of the cedars.\r\n",
      "Yet there is no spring in Florida, neither in boskage perdu, nor on the nunnery beaches.\n",
      "--------------------------------------------------------------------------------\n",
      "\n"
     ]
    }
   ],
   "execution_count": 4
  },
  {
   "cell_type": "markdown",
   "metadata": {},
   "source": [
    "## Part (a) Modeling Text\n",
    "Train a transformer on the poetry dataset.\n",
    "\n",
    "Data Preprocessing:\n",
    "* We will use a simple method to tokenize the data. We will convert each unique character into a token. (Current LLMs use more sophisticated tokenizers, most commonly, [byte-pair encoding](https://huggingface.co/learn/nlp-course/chapter6/5?fw=pt))\n",
    "* Previously we have leveraged a **\\<bos\\>** as part of the model, just like iGPT. For text, we may not always sample a sequence that starts at the beginning. Instead, we will add the **\\<bos\\>** token to the beginning of every sequence in the dataset, and remove the **\\<bos\\>** token from the model.\n",
    "* Another problem is that the model must know when to stop sampling. This is done by appending an **\\<eos\\>**, or end of sequence token at the end of every sequence in the dataset.\n",
    "* We can now convert the sequence into subsequences of size context_length, for training!\n",
    "\n",
    "We recommend the following hyperparameters:\n",
    "* Sequence length: 128\n",
    "* 5 epochs\n",
    "\n",
    "**You will provide these deliverables**\n",
    "\n",
    "1. Over the course of training, record the average negative log-likelihood (nats / dim) of the training data (per minibatch) and test data (for your entire test set). Code is provided that automatically plots the training curves. \n",
    "2. Report the final test set performance of your final model\n",
    "3. Provide **5 unconditional samples** of **128 characters** showcasing the model text generation capabilities (text samples should stop after **\\<eos\\>**. Text after **\\<eos\\>** can be removed in post processing)"
   ]
  },
  {
   "cell_type": "code",
   "execution_count": 6,
   "metadata": {},
   "outputs": [],
   "source": [
    "\n",
    "from models.GATModel import GATModel\n",
    "from torch.optim import Adam\n",
    "from torch.utils.data import TensorDataset, DataLoader\n",
    "import math\n",
    "import torch\n",
    "\n",
    "\n",
    "def create_non_overlapping_windows(tokens, context_size, padding):\n",
    "    tokens_tensor = torch.tensor(tokens)\n",
    "    padded_length = context_size * math.ceil(len(tokens) / context_size)\n",
    "    return torch.cat((tokens_tensor, torch.full((padded_length - len(tokens),), padding)), dim=0).unflatten(0, (\n",
    "    context_size, padded_length // context_size))\n",
    "\n",
    "\n",
    "def q5_a(train_text, test_text):\n",
    "    \"\"\"\n",
    "    train_text: list[str] Train text sequences.\n",
    "    test_text: list[str] Test text sequences.\n",
    "    \n",
    "    Returns\n",
    "    - a (# of training iterations,) numpy array of train_losses evaluated every minibatch\n",
    "    - a (# of epochs + 1,) numpy array of test_losses evaluated once at initialization and after each epoch\n",
    "    - a list of 5 (str), 5 generated samples from the model.\n",
    "    \"\"\"\n",
    "    batch_size = 128\n",
    "    learning_rate = 0.00001\n",
    "    max_epochs = 50\n",
    "    context_length = 128\n",
    "    vocabulary = [\"<bos>\", *list(set(\"\".join(train_text + test_text))), \"<eos>\"]\n",
    "    vocab_to_index = {value: index + 1 for index, value in enumerate(vocabulary)}\n",
    "\n",
    "    x_train = [item for text in train_text for item in [0, *[vocab_to_index[c] for c in text], len(vocabulary) - 1]]\n",
    "    x_test = [item for text in train_text for item in [0, *[vocab_to_index[c] for c in text], len(vocabulary) - 1]]\n",
    "    x_train = create_non_overlapping_windows(x_train, context_length, len(vocabulary) - 1).T\n",
    "    x_test = create_non_overlapping_windows(x_test, context_length, len(vocabulary) - 1).T\n",
    "\n",
    "    train_dataset = TensorDataset(x_train)\n",
    "    train_loader = DataLoader(train_dataset, batch_size=batch_size, shuffle=True)\n",
    "\n",
    "    device = torch.device('cuda' if torch.cuda.is_available() else 'cpu')\n",
    "    x_test = x_test.to(device)\n",
    "\n",
    "    model = GATModel(vocab_size=len(vocabulary))\n",
    "    model.to(device)\n",
    "\n",
    "    optimizer = Adam(model.parameters(), lr=learning_rate)\n",
    "    train_losses = []\n",
    "    test_losses = []\n",
    "    for epoch in range(max_epochs):\n",
    "        batches = iter(train_loader)\n",
    "\n",
    "        batch_train_loss = np.empty(len(batches))\n",
    "        for i, [batch_x] in enumerate(batches):\n",
    "            batch_x = batch_x.to(device)\n",
    "            logits = model.forward(batch_x)\n",
    "\n",
    "            loss = model.loss_function(logits, batch_x)\n",
    "            batch_train_loss[i] = loss\n",
    "\n",
    "            loss.backward()\n",
    "            optimizer.step()\n",
    "            optimizer.zero_grad()\n",
    "        train_losses.append(batch_train_loss.mean().item())\n",
    "\n",
    "        model.eval()\n",
    "        with torch.no_grad():\n",
    "            test_logits = model.forward(x_test)\n",
    "            test_loss = model.loss_function(test_logits, x_test)\n",
    "            test_losses.append(test_loss.item())\n",
    "        model.train()\n",
    "        print(f\"epoch {epoch + 1}/{max_epochs}, train loss: {train_losses[-1]}, test loss: {test_losses[-1]}\")\n",
    "    samples = model.generate(5, max_sequence_length=128, device=device).numpy(force=True)\n",
    "    text_samples = [\"\".join([vocabulary[vi] for vi in sample]) for sample in samples]\n",
    "    return train_losses, test_losses, text_samples"
   ]
  },
  {
   "cell_type": "markdown",
   "metadata": {
    "id": "mGp2OsLKiToN"
   },
   "source": [
    "### Results\n",
    "\n",
    "Once you've implemented `q5_a`, execute the cells below to visualize and save your results\n",
    "\n"
   ]
  },
  {
   "cell_type": "code",
   "execution_count": 8,
   "metadata": {
    "colab": {
     "base_uri": "https://localhost:8080/",
     "height": 577
    },
    "id": "kW-k-59qJaKN",
    "outputId": "78b08f6a-12db-46b7-ac27-a07693a9cd09"
   },
   "outputs": [
    {
     "name": "stdout",
     "output_type": "stream",
     "text": [
      "Generating new samples\n",
      "Final Test Loss: 1.6281\n"
     ]
    },
    {
     "data": {
      "image/png": "[encoded data removed]",
      "text/plain": [
       "<Figure size 640x480 with 1 Axes>"
      ]
     },
     "metadata": {},
     "output_type": "display_data"
    },
    {
     "name": "stdout",
     "output_type": "stream",
     "text": [
      "Sample 1\n",
      "ghe his soon more memow;\n",
      "My made a callen with youth eyes coming,\n",
      "\"Plate that I bride nought elseteness we make\n",
      "To enseave an\n",
      "\n",
      "Sample 2\n",
      "eight    \n",
      "An! \n",
      "Than dread the sweete prevail\n",
      "Arry away thered now shall past is mist\n",
      "Or all this king out of not queen\n",
      "And \n",
      "\n",
      "Sample 3\n",
      "954 by Crad frend Sweet Ezropic XUS bridall silvery aslay to kept,\n",
      "Wafting be oft, the Januarhaphoes, That I\n",
      "Till hath full of\n",
      "\n",
      "Sample 4\n",
      "wit his lust\n",
      "   And summit so be a such more;\n",
      "   For for soft being and stealdising smile,\n",
      "From the golden of yourself there?\n",
      "\n",
      "Sample 5\n",
      "5HgQuemon one;   \n",
      "That thou thyne eyes whateful. Crimmering is: )\n",
      "By dear a dialing spong, or hate?\n",
      "The wild Groldiar nor car\n",
      "\n"
     ]
    }
   ],
   "source": [
    "q5a_save_results(q5_a)"
   ]
  }
 ],
 "metadata": {
  "accelerator": "GPU",
  "colab": {
   "collapsed_sections": [],
   "include_colab_link": true,
   "name": " Homework 1 Autoregressive Models (Solutions).ipynb",
   "provenance": [],
   "toc_visible": true
  },
  "kernelspec": {
   "display_name": "Python 3 (ipykernel)",
   "language": "python",
   "name": "python3"
  },
  "language_info": {
   "codemirror_mode": {
    "name": "ipython",
    "version": 3
   },
   "file_extension": ".py",
   "mimetype": "text/x-python",
   "name": "python",
   "nbconvert_exporter": "python",
   "pygments_lexer": "ipython3",
   "version": "3.12.4"
  }
 },
 "nbformat": 4,
 "nbformat_minor": 4
}
